{
 "cells": [
  {
   "cell_type": "markdown",
   "metadata": {},
   "source": [
    "# Forward Collars\n",
    "Price forward collars using different models. Forward collars are insightful because\n",
    "\n",
    "- they are sensitive to the forward skew of the implied volatility surface, and therefore highlight the forward vol dynamics of each model.\n",
    "- a cliquet can be thought of as a series of forward collars."
   ]
  },
  {
   "cell_type": "code",
   "execution_count": null,
   "metadata": {},
   "outputs": [],
   "source": [
    "from datetime import datetime\n",
    "\n",
    "import numpy as np\n",
    "import pandas as pd\n",
    "import pyarrow as pa\n",
    "from matplotlib import pyplot as plt\n",
    "from qablet.black_scholes.mc import LVMCModel\n",
    "from qablet.heston.mc import HestonMCModel\n",
    "from qablet_contracts.timetable import TS_EVENT_SCHEMA\n",
    "\n",
    "from data.samples import heston_data, localvol_data, rbergomi_data\n",
    "from src.model.rbergomi import rBergomiMCModel"
   ]
  },
  {
   "cell_type": "markdown",
   "metadata": {},
   "source": [
    "### Forward Collars\n",
    "Forward collars are not in the qablet_contracts package. We will write a method to create forward collars here, using the [qablet specifications](https://qablet.github.io/qablet-contracts/specifications/timetable/). Forward collar has two events\n",
    "\n",
    "- set the strike, at a future strike time, using a given strike_rate\n",
    "- pay at maturity, based on above strike, and a collar width."
   ]
  },
  {
   "cell_type": "code",
   "execution_count": null,
   "metadata": {},
   "outputs": [
    {
     "name": "stdout",
     "output_type": "stream",
     "text": [
      "  track                      time   op  quantity    unit\n",
      "0   NaN 2013-10-31 00:00:00+00:00  NaN       0.0     FIX\n",
      "1       2013-12-31 00:00:00+00:00    +       1.0  COLLAR\n"
     ]
    }
   ],
   "source": [
    "# Create a Collar\n",
    "def fwd_collar_timetable(ticker, strike_rate, width, strike_time, maturity):\n",
    "    events = [\n",
    "        {\n",
    "            \"track\": None,\n",
    "            \"time\": strike_time,\n",
    "            \"op\": None,\n",
    "            \"quantity\": 0,\n",
    "            \"unit\": \"FIX\",  # set strike\n",
    "        },\n",
    "        {\n",
    "            \"track\": \"\",\n",
    "            \"time\": maturity,\n",
    "            \"op\": \"+\",\n",
    "            \"quantity\": 1,\n",
    "            \"unit\": \"COLLAR\",  # pay collar\n",
    "        },\n",
    "    ]\n",
    "\n",
    "    # Define the strike phrase, which is the spot times strike rate.\n",
    "    def strike_fn(inputs):\n",
    "        [s] = inputs\n",
    "        return [s * strike_rate]\n",
    "\n",
    "    # Define collar phrase, which is spot - K, capped and floored.\n",
    "    def collar_pay_fn(inputs):\n",
    "        [s, k] = inputs\n",
    "\n",
    "        ret = np.maximum(-width, s - k)\n",
    "        ret = np.minimum(width, ret)\n",
    "\n",
    "        return [ret]\n",
    "\n",
    "    events_table = pa.RecordBatch.from_pylist(events, schema=TS_EVENT_SCHEMA)\n",
    "    return {\n",
    "        \"events\": events_table,\n",
    "        \"expressions\": {\n",
    "            \"COLLAR\": {\n",
    "                \"type\": \"phrase\",\n",
    "                \"inp\": [ticker, \"K\"],\n",
    "                \"fn\": collar_pay_fn,\n",
    "            },\n",
    "            \"FIX\": {\n",
    "                \"type\": \"snapper\",\n",
    "                \"inp\": [ticker],\n",
    "                \"fn\": strike_fn,\n",
    "                \"out\": [\"K\"],\n",
    "            },\n",
    "        },\n",
    "    }\n",
    "\n",
    "\n",
    "# Try en example:\n",
    "timetable = fwd_collar_timetable(\n",
    "    \"SPX\", 1.0, 10, datetime(2013, 10, 31), datetime(2013, 12, 31)\n",
    ")\n",
    "print(timetable[\"events\"].to_pandas())"
   ]
  },
  {
   "cell_type": "markdown",
   "metadata": {},
   "source": [
    "The Collar Payoff is like this."
   ]
  },
  {
   "cell_type": "code",
   "execution_count": null,
   "metadata": {},
   "outputs": [
    {
     "data": {
      "text/plain": [
       "[<matplotlib.lines.Line2D at 0x1dfbfe60ad0>]"
      ]
     },
     "execution_count": null,
     "metadata": {},
     "output_type": "execute_result"
    },
    {
     "data": {
      "image/png": "[encoded data removed]",
      "text/plain": [
       "<Figure size 640x480 with 1 Axes>"
      ]
     },
     "metadata": {},
     "output_type": "display_data"
    }
   ],
   "source": [
    "K = 1650\n",
    "s_vec = np.linspace(K - 50, K + 50, 11)\n",
    "fn = timetable[\"expressions\"][\"COLLAR\"][\"fn\"]\n",
    "pay_vec = fn([s_vec, K])[0]\n",
    "plt.plot(s_vec, pay_vec)"
   ]
  },
  {
   "cell_type": "markdown",
   "metadata": {},
   "source": [
    "Create a series of forward collars starting at different expiration dates, setting strike one month prior."
   ]
  },
  {
   "cell_type": "code",
   "execution_count": null,
   "metadata": {},
   "outputs": [],
   "source": [
    "dates = pd.bdate_range(\n",
    "    datetime(2013, 8, 30), datetime(2014, 8, 29), freq=\"2BME\"\n",
    ")\n",
    "fix_dates = dates[:-1]\n",
    "exp_dates = dates[1:]\n",
    "\n",
    "timetables = []\n",
    "for fix_dt, exp_dt in zip(fix_dates, exp_dates):\n",
    "    timetables.append(\n",
    "        fwd_collar_timetable(\n",
    "            \"SPX\",\n",
    "            strike_rate=1.0,\n",
    "            width=10,\n",
    "            strike_time=fix_dt,\n",
    "            maturity=exp_dt,\n",
    "        )\n",
    "    )"
   ]
  },
  {
   "cell_type": "markdown",
   "metadata": {},
   "source": [
    "### Compare Models\n",
    "Compare different models, starting with Local Volatility Model."
   ]
  },
  {
   "cell_type": "code",
   "execution_count": null,
   "metadata": {},
   "outputs": [
    {
     "data": {
      "text/html": [
       "<div>\n",
       "<style scoped>\n",
       "    .dataframe tbody tr th:only-of-type {\n",
       "        vertical-align: middle;\n",
       "    }\n",
       "\n",
       "    .dataframe tbody tr th {\n",
       "        vertical-align: top;\n",
       "    }\n",
       "\n",
       "    .dataframe thead th {\n",
       "        text-align: right;\n",
       "    }\n",
       "</style>\n",
       "<table border=\"1\" class=\"dataframe\">\n",
       "  <thead>\n",
       "    <tr style=\"text-align: right;\">\n",
       "      <th></th>\n",
       "      <th>fix date</th>\n",
       "      <th>exp date</th>\n",
       "      <th>LocalVol</th>\n",
       "    </tr>\n",
       "  </thead>\n",
       "  <tbody>\n",
       "    <tr>\n",
       "      <th>0</th>\n",
       "      <td>2013-08-30</td>\n",
       "      <td>2013-10-31</td>\n",
       "      <td>2.050608</td>\n",
       "    </tr>\n",
       "    <tr>\n",
       "      <th>1</th>\n",
       "      <td>2013-10-31</td>\n",
       "      <td>2013-12-31</td>\n",
       "      <td>1.467853</td>\n",
       "    </tr>\n",
       "    <tr>\n",
       "      <th>2</th>\n",
       "      <td>2013-12-31</td>\n",
       "      <td>2014-02-28</td>\n",
       "      <td>0.925652</td>\n",
       "    </tr>\n",
       "    <tr>\n",
       "      <th>3</th>\n",
       "      <td>2014-02-28</td>\n",
       "      <td>2014-04-30</td>\n",
       "      <td>0.657573</td>\n",
       "    </tr>\n",
       "    <tr>\n",
       "      <th>4</th>\n",
       "      <td>2014-04-30</td>\n",
       "      <td>2014-06-30</td>\n",
       "      <td>0.413980</td>\n",
       "    </tr>\n",
       "    <tr>\n",
       "      <th>5</th>\n",
       "      <td>2014-06-30</td>\n",
       "      <td>2014-08-29</td>\n",
       "      <td>0.192388</td>\n",
       "    </tr>\n",
       "  </tbody>\n",
       "</table>\n",
       "</div>"
      ],
      "text/plain": [
       "    fix date   exp date  LocalVol\n",
       "0 2013-08-30 2013-10-31  2.050608\n",
       "1 2013-10-31 2013-12-31  1.467853\n",
       "2 2013-12-31 2014-02-28  0.925652\n",
       "3 2014-02-28 2014-04-30  0.657573\n",
       "4 2014-04-30 2014-06-30  0.413980\n",
       "5 2014-06-30 2014-08-29  0.192388"
      ]
     },
     "execution_count": null,
     "metadata": {},
     "output_type": "execute_result"
    }
   ],
   "source": [
    "model = LVMCModel()\n",
    "\n",
    "prices = []\n",
    "for timetable in timetables:\n",
    "    price, _ = model.price(timetable, localvol_data())\n",
    "    prices.append(price)\n",
    "\n",
    "df = pd.DataFrame(\n",
    "    {\"fix date\": fix_dates, \"exp date\": exp_dates, \"LocalVol\": prices}\n",
    ")\n",
    "df"
   ]
  },
  {
   "cell_type": "markdown",
   "metadata": {},
   "source": [
    "Heston Model"
   ]
  },
  {
   "cell_type": "code",
   "execution_count": null,
   "metadata": {},
   "outputs": [
    {
     "data": {
      "text/html": [
       "<div>\n",
       "<style scoped>\n",
       "    .dataframe tbody tr th:only-of-type {\n",
       "        vertical-align: middle;\n",
       "    }\n",
       "\n",
       "    .dataframe tbody tr th {\n",
       "        vertical-align: top;\n",
       "    }\n",
       "\n",
       "    .dataframe thead th {\n",
       "        text-align: right;\n",
       "    }\n",
       "</style>\n",
       "<table border=\"1\" class=\"dataframe\">\n",
       "  <thead>\n",
       "    <tr style=\"text-align: right;\">\n",
       "      <th></th>\n",
       "      <th>fix date</th>\n",
       "      <th>exp date</th>\n",
       "      <th>LocalVol</th>\n",
       "      <th>Heston</th>\n",
       "    </tr>\n",
       "  </thead>\n",
       "  <tbody>\n",
       "    <tr>\n",
       "      <th>0</th>\n",
       "      <td>2013-08-30</td>\n",
       "      <td>2013-10-31</td>\n",
       "      <td>2.050608</td>\n",
       "      <td>2.310629</td>\n",
       "    </tr>\n",
       "    <tr>\n",
       "      <th>1</th>\n",
       "      <td>2013-10-31</td>\n",
       "      <td>2013-12-31</td>\n",
       "      <td>1.467853</td>\n",
       "      <td>1.595248</td>\n",
       "    </tr>\n",
       "    <tr>\n",
       "      <th>2</th>\n",
       "      <td>2013-12-31</td>\n",
       "      <td>2014-02-28</td>\n",
       "      <td>0.925652</td>\n",
       "      <td>1.456470</td>\n",
       "    </tr>\n",
       "    <tr>\n",
       "      <th>3</th>\n",
       "      <td>2014-02-28</td>\n",
       "      <td>2014-04-30</td>\n",
       "      <td>0.657573</td>\n",
       "      <td>1.440869</td>\n",
       "    </tr>\n",
       "    <tr>\n",
       "      <th>4</th>\n",
       "      <td>2014-04-30</td>\n",
       "      <td>2014-06-30</td>\n",
       "      <td>0.413980</td>\n",
       "      <td>1.440134</td>\n",
       "    </tr>\n",
       "    <tr>\n",
       "      <th>5</th>\n",
       "      <td>2014-06-30</td>\n",
       "      <td>2014-08-29</td>\n",
       "      <td>0.192388</td>\n",
       "      <td>1.403311</td>\n",
       "    </tr>\n",
       "  </tbody>\n",
       "</table>\n",
       "</div>"
      ],
      "text/plain": [
       "    fix date   exp date  LocalVol    Heston\n",
       "0 2013-08-30 2013-10-31  2.050608  2.310629\n",
       "1 2013-10-31 2013-12-31  1.467853  1.595248\n",
       "2 2013-12-31 2014-02-28  0.925652  1.456470\n",
       "3 2014-02-28 2014-04-30  0.657573  1.440869\n",
       "4 2014-04-30 2014-06-30  0.413980  1.440134\n",
       "5 2014-06-30 2014-08-29  0.192388  1.403311"
      ]
     },
     "execution_count": null,
     "metadata": {},
     "output_type": "execute_result"
    }
   ],
   "source": [
    "model = HestonMCModel()\n",
    "\n",
    "prices = []\n",
    "for timetable in timetables:\n",
    "    price, _ = model.price(timetable, heston_data())\n",
    "    prices.append(price)\n",
    "df[\"Heston\"] = prices\n",
    "df"
   ]
  },
  {
   "cell_type": "markdown",
   "metadata": {},
   "source": [
    "Bergomi Model"
   ]
  },
  {
   "cell_type": "code",
   "execution_count": null,
   "metadata": {},
   "outputs": [
    {
     "data": {
      "text/html": [
       "<div>\n",
       "<style scoped>\n",
       "    .dataframe tbody tr th:only-of-type {\n",
       "        vertical-align: middle;\n",
       "    }\n",
       "\n",
       "    .dataframe tbody tr th {\n",
       "        vertical-align: top;\n",
       "    }\n",
       "\n",
       "    .dataframe thead th {\n",
       "        text-align: right;\n",
       "    }\n",
       "</style>\n",
       "<table border=\"1\" class=\"dataframe\">\n",
       "  <thead>\n",
       "    <tr style=\"text-align: right;\">\n",
       "      <th></th>\n",
       "      <th>fix date</th>\n",
       "      <th>exp date</th>\n",
       "      <th>LocalVol</th>\n",
       "      <th>Heston</th>\n",
       "      <th>rBergomi</th>\n",
       "    </tr>\n",
       "  </thead>\n",
       "  <tbody>\n",
       "    <tr>\n",
       "      <th>0</th>\n",
       "      <td>2013-08-30</td>\n",
       "      <td>2013-10-31</td>\n",
       "      <td>2.050608</td>\n",
       "      <td>2.310629</td>\n",
       "      <td>1.164407</td>\n",
       "    </tr>\n",
       "    <tr>\n",
       "      <th>1</th>\n",
       "      <td>2013-10-31</td>\n",
       "      <td>2013-12-31</td>\n",
       "      <td>1.467853</td>\n",
       "      <td>1.595248</td>\n",
       "      <td>1.120310</td>\n",
       "    </tr>\n",
       "    <tr>\n",
       "      <th>2</th>\n",
       "      <td>2013-12-31</td>\n",
       "      <td>2014-02-28</td>\n",
       "      <td>0.925652</td>\n",
       "      <td>1.456470</td>\n",
       "      <td>0.855147</td>\n",
       "    </tr>\n",
       "    <tr>\n",
       "      <th>3</th>\n",
       "      <td>2014-02-28</td>\n",
       "      <td>2014-04-30</td>\n",
       "      <td>0.657573</td>\n",
       "      <td>1.440869</td>\n",
       "      <td>0.921219</td>\n",
       "    </tr>\n",
       "    <tr>\n",
       "      <th>4</th>\n",
       "      <td>2014-04-30</td>\n",
       "      <td>2014-06-30</td>\n",
       "      <td>0.413980</td>\n",
       "      <td>1.440134</td>\n",
       "      <td>1.008746</td>\n",
       "    </tr>\n",
       "    <tr>\n",
       "      <th>5</th>\n",
       "      <td>2014-06-30</td>\n",
       "      <td>2014-08-29</td>\n",
       "      <td>0.192388</td>\n",
       "      <td>1.403311</td>\n",
       "      <td>0.813574</td>\n",
       "    </tr>\n",
       "  </tbody>\n",
       "</table>\n",
       "</div>"
      ],
      "text/plain": [
       "    fix date   exp date  LocalVol    Heston  rBergomi\n",
       "0 2013-08-30 2013-10-31  2.050608  2.310629  1.164407\n",
       "1 2013-10-31 2013-12-31  1.467853  1.595248  1.120310\n",
       "2 2013-12-31 2014-02-28  0.925652  1.456470  0.855147\n",
       "3 2014-02-28 2014-04-30  0.657573  1.440869  0.921219\n",
       "4 2014-04-30 2014-06-30  0.413980  1.440134  1.008746\n",
       "5 2014-06-30 2014-08-29  0.192388  1.403311  0.813574"
      ]
     },
     "execution_count": null,
     "metadata": {},
     "output_type": "execute_result"
    }
   ],
   "source": [
    "model = rBergomiMCModel()\n",
    "dataset = rbergomi_data()\n",
    "dataset[\"MC\"][\"PATHS\"] = 10_000  # very slow with 100_000, 1/250\n",
    "dataset[\"MC\"][\"TIMESTEP\"] = 1 / 100\n",
    "\n",
    "prices = []\n",
    "for timetable in timetables:\n",
    "    price, _ = model.price(timetable, dataset)\n",
    "    prices.append(price)\n",
    "df[\"rBergomi\"] = prices\n",
    "df"
   ]
  },
  {
   "cell_type": "markdown",
   "metadata": {},
   "source": [
    "## Plot"
   ]
  },
  {
   "cell_type": "code",
   "execution_count": null,
   "metadata": {},
   "outputs": [
    {
     "data": {
      "text/plain": [
       "<Axes: xlabel='exp date'>"
      ]
     },
     "execution_count": null,
     "metadata": {},
     "output_type": "execute_result"
    },
    {
     "data": {
      "image/png": "[encoded data removed]",
      "text/plain": [
       "<Figure size 640x480 with 1 Axes>"
      ]
     },
     "metadata": {},
     "output_type": "display_data"
    }
   ],
   "source": [
    "df.columns\n",
    "df.plot(x=\"exp date\", y=[\"LocalVol\", \"Heston\", \"rBergomi\"], marker=\"o\")"
   ]
  }
 ],
 "metadata": {
  "kernelspec": {
   "display_name": ".venv",
   "language": "python",
   "name": "python3"
  },
  "language_info": {
   "codemirror_mode": {
    "name": "ipython",
    "version": 3
   },
   "file_extension": ".py",
   "mimetype": "text/x-python",
   "name": "python",
   "nbconvert_exporter": "python",
   "pygments_lexer": "ipython3"
  }
 },
 "nbformat": 4,
 "nbformat_minor": 2
}
