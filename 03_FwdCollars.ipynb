{
 "cells": [
  {
   "cell_type": "markdown",
   "metadata": {},
   "source": [
    "# Forward Collars\n",
    "Price forward collars using different models."
   ]
  },
  {
   "cell_type": "code",
   "execution_count": null,
   "metadata": {},
   "outputs": [],
   "source": [
    "from datetime import datetime\n",
    "import numpy as np\n",
    "import pyarrow as pa\n",
    "import pandas as pd\n",
    "from src.model.rbergomi import rBergomiMCModel\n",
    "from data.samples import rbergomi_data, heston_data, localvol_data\n",
    "from qablet.heston.mc import HestonMCModel\n",
    "from qablet.black_scholes.mc import LVMCModel\n",
    "from qablet_contracts.timetable import TS_EVENT_SCHEMA"
   ]
  },
  {
   "cell_type": "markdown",
   "metadata": {},
   "source": [
    "### Forward Collars\n",
    "Forward collars are not in the qablet_contracts package. We will write a method to create forward collars contracts here."
   ]
  },
  {
   "cell_type": "code",
   "execution_count": null,
   "metadata": {},
   "outputs": [
    {
     "name": "stdout",
     "output_type": "stream",
     "text": [
      "  track                      time   op  quantity    unit\n",
      "0   NaN 2013-10-31 00:00:00+00:00  NaN       0.0     FIX\n",
      "1       2013-12-31 00:00:00+00:00    +       1.0  COLLAR\n"
     ]
    }
   ],
   "source": [
    "# Create a Collar\n",
    "def fwd_collar_timetable(ticker, strike_rate, width, strike_time, maturity):\n",
    "    events = [\n",
    "        {\n",
    "            \"track\": None,\n",
    "            \"time\": strike_time,\n",
    "            \"op\": None,\n",
    "            \"quantity\": 0,\n",
    "            \"unit\": \"FIX\",  # set strike\n",
    "        },\n",
    "        {\n",
    "            \"track\": \"\",\n",
    "            \"time\": maturity,\n",
    "            \"op\": \"+\",\n",
    "            \"quantity\": 1,\n",
    "            \"unit\": \"COLLAR\",  # pay collar\n",
    "        },\n",
    "    ]\n",
    "\n",
    "    # Define the strike phrase, return the spot itself.\n",
    "    def strike_fn(inputs):\n",
    "        [s] = inputs\n",
    "        return [s * strike_rate]\n",
    "\n",
    "    # Define collar phrase.\n",
    "    def collar_pay_fn(inputs):\n",
    "        [s, k] = inputs\n",
    "\n",
    "        ret = np.maximum(-width, s - k)\n",
    "        ret = np.minimum(width, ret)\n",
    "\n",
    "        return [ret]\n",
    "\n",
    "    events_table = pa.RecordBatch.from_pylist(events, schema=TS_EVENT_SCHEMA)\n",
    "    return {\n",
    "        \"events\": events_table,\n",
    "        \"expressions\": {\n",
    "            \"COLLAR\": {\n",
    "                \"type\": \"phrase\",\n",
    "                \"inp\": [ticker, \"K\"],\n",
    "                \"fn\": collar_pay_fn,\n",
    "            },\n",
    "            \"FIX\": {\n",
    "                \"type\": \"snapper\",\n",
    "                \"inp\": [ticker],\n",
    "                \"fn\": strike_fn,\n",
    "                \"out\": [\"K\"],\n",
    "            },\n",
    "        },\n",
    "    }\n",
    "\n",
    "\n",
    "# Try en example:\n",
    "timetable = fwd_collar_timetable(\n",
    "    \"SPX\", 1.0, 10, datetime(2013, 10, 31), datetime(2013, 12, 31)\n",
    ")\n",
    "print(timetable[\"events\"].to_pandas())"
   ]
  },
  {
   "cell_type": "markdown",
   "metadata": {},
   "source": [
    "Create a series of forward collars starting at different expiration dates, setting strike one month prior."
   ]
  },
  {
   "cell_type": "code",
   "execution_count": null,
   "metadata": {},
   "outputs": [],
   "source": [
    "dates = pd.bdate_range(\n",
    "    datetime(2013, 8, 30), datetime(2014, 8, 29), freq=\"2BME\"\n",
    ")\n",
    "\n",
    "timetables = {}\n",
    "for fix_dt, exp_dt in zip(dates[:-1], dates[1:]):\n",
    "    timetables[exp_dt] = fwd_collar_timetable(\n",
    "        \"SPX\", strike_rate=1.0, width=10, strike_time=fix_dt, maturity=exp_dt\n",
    "    )"
   ]
  },
  {
   "cell_type": "markdown",
   "metadata": {},
   "source": [
    "Bergomi Model"
   ]
  },
  {
   "cell_type": "code",
   "execution_count": null,
   "metadata": {},
   "outputs": [
    {
     "name": "stdout",
     "output_type": "stream",
     "text": [
      "2013-10-31: 1.164406689113938\n",
      "2013-12-31: 1.1203102137754208\n",
      "2014-02-28: 0.8551470647002714\n",
      "2014-04-30: 0.9212186777743429\n",
      "2014-06-30: 1.00874579200005\n",
      "2014-08-29: 0.8135743113791019\n"
     ]
    }
   ],
   "source": [
    "model = rBergomiMCModel()\n",
    "dataset = rbergomi_data()\n",
    "dataset[\"MC\"][\"PATHS\"] = 10_000  # very slow with 100_000, 1/250\n",
    "dataset[\"MC\"][\"TIMESTEP\"] = 1 / 100\n",
    "\n",
    "for exp_dt, timetable in timetables.items():\n",
    "    price, _ = model.price(timetable, dataset)\n",
    "    print(f\"{exp_dt.date()}: {price}\")"
   ]
  },
  {
   "cell_type": "markdown",
   "metadata": {},
   "source": [
    "Heston Model"
   ]
  },
  {
   "cell_type": "code",
   "execution_count": null,
   "metadata": {},
   "outputs": [
    {
     "name": "stdout",
     "output_type": "stream",
     "text": [
      "2013-10-31: 2.121521963757764\n",
      "2013-12-31: 1.8388206132782627\n",
      "2014-02-28: 1.9170084417735371\n",
      "2014-04-30: 1.9957500899382765\n",
      "2014-06-30: 1.8859125432198915\n",
      "2014-08-29: 1.8048462874829085\n"
     ]
    }
   ],
   "source": [
    "model = HestonMCModel()\n",
    "\n",
    "for exp_dt, timetable in timetables.items():\n",
    "    price, _ = model.price(timetable, heston_data())\n",
    "    print(f\"{exp_dt.date()}: {price}\")"
   ]
  },
  {
   "cell_type": "markdown",
   "metadata": {},
   "source": [
    "Local Volatility MC Model"
   ]
  },
  {
   "cell_type": "code",
   "execution_count": null,
   "metadata": {},
   "outputs": [
    {
     "name": "stdout",
     "output_type": "stream",
     "text": [
      "2013-10-31: 2.090194178043658\n"
     ]
    },
    {
     "name": "stdout",
     "output_type": "stream",
     "text": [
      "2013-12-31: 1.4198356696442824\n",
      "2014-02-28: 0.9136321273442298\n",
      "2014-04-30: 0.571273888816799\n",
      "2014-06-30: 0.3978848354095187\n",
      "2014-08-29: 0.3226758088184244\n"
     ]
    }
   ],
   "source": [
    "model = LVMCModel()\n",
    "\n",
    "for exp_dt, timetable in timetables.items():\n",
    "    price, _ = model.price(timetable, localvol_data())\n",
    "    print(f\"{exp_dt.date()}: {price}\")"
   ]
  }
 ],
 "metadata": {
  "kernelspec": {
   "display_name": ".venv",
   "language": "python",
   "name": "python3"
  },
  "language_info": {
   "codemirror_mode": {
    "name": "ipython",
    "version": 3
   },
   "file_extension": ".py",
   "mimetype": "text/x-python",
   "name": "python",
   "nbconvert_exporter": "python",
   "pygments_lexer": "ipython3"
  }
 },
 "nbformat": 4,
 "nbformat_minor": 2
}
