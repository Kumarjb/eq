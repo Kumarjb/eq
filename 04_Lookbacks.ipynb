{
 "cells": [
  {
   "cell_type": "markdown",
   "metadata": {},
   "source": [
    "Lookback put option (floating strike)"
   ]
  },
  {
   "cell_type": "code",
   "execution_count": 1,
   "metadata": {},
   "outputs": [],
   "source": [
    "import numpy as np\n",
    "import pandas as pd\n",
    "import pyarrow as pa\n",
    "from datetime import datetime, timedelta\n",
    "from qablet_contracts.timetable import TS_EVENT_SCHEMA"
   ]
  },
  {
   "cell_type": "code",
   "execution_count": 2,
   "metadata": {},
   "outputs": [],
   "source": [
    "# Creating a look-back put option timetable with custom lookbacks\n",
    "def lookback_put_timetable(ticker, k, spot, start_date, T, num_points):\n",
    "\n",
    "    start_date = pd.to_datetime(start_date)\n",
    "    days_to_maturity = T * 365.25\n",
    "    maturity = start_date + timedelta(days=days_to_maturity)\n",
    "\n",
    "    # find fixing dates, including the start date, but not the maturity date.\n",
    "    fix_dates = pd.date_range(start=start_date, end=maturity, periods=num_points + 1, inclusive=\"left\")\n",
    "    events = [\n",
    "        {\n",
    "            \"track\": \"\",\n",
    "            \"time\": fix_dates[0],\n",
    "            \"op\": None,\n",
    "            \"quantity\": 0,\n",
    "            \"unit\": \"INIT\",\n",
    "        }\n",
    "    ]\n",
    "\n",
    "    for fixing_time in fix_dates[1:]:\n",
    "        events.append(\n",
    "            {\n",
    "                \"track\": \"\",\n",
    "                \"time\": fixing_time,\n",
    "                \"op\": None,\n",
    "                \"quantity\": 0,\n",
    "                \"unit\": \"UPDATE\",  \n",
    "            }\n",
    "        )\n",
    "\n",
    "    events.append(\n",
    "        {\n",
    "            \"track\": \"\",\n",
    "            \"time\": maturity,\n",
    "            \"op\": \"+\",\n",
    "            \"quantity\": 1,\n",
    "            \"unit\": \"LOOKBACK\", \n",
    "        }\n",
    "    )\n",
    "\n",
    "    # Defining fixed strike look-back put payoff function\n",
    "    def lookback_put_pay_fn(inputs):\n",
    "        [ticker, s_max] = inputs\n",
    "        return [np.maximum(s_max - ticker, 0)]\n",
    "\n",
    "    events_table = pa.RecordBatch.from_pylist(events, schema=TS_EVENT_SCHEMA)\n",
    "    return {\n",
    "        \"events\": events_table,\n",
    "        \"expressions\": {\n",
    "            \"LOOKBACK\": {\n",
    "                \"type\": \"phrase\",\n",
    "                \"inp\": [ticker, \"MAX_SPOT\"],\n",
    "                \"fn\": lookback_put_pay_fn,\n",
    "            },\n",
    "            \"UPDATE\": {\n",
    "                \"type\": \"snapper\",\n",
    "                \"inp\": [ticker, \"MAX_SPOT\"],\n",
    "                \"fn\": lambda inputs: [np.maximum(inputs[0], inputs[1])],\n",
    "                \"out\": [\"MAX_SPOT\"],\n",
    "            },\n",
    "            \"INIT\": {\n",
    "                \"type\": \"snapper\",\n",
    "                \"inp\": [],\n",
    "                \"fn\": lambda inputs: [spot],\n",
    "                \"out\": [\"MAX_SPOT\"],\n",
    "            },\n",
    "        },\n",
    "    }"
   ]
  },
  {
   "cell_type": "code",
   "execution_count": 3,
   "metadata": {},
   "outputs": [
    {
     "name": "stdout",
     "output_type": "stream",
     "text": [
      "  track                      time   op  quantity      unit\n",
      "0       2005-09-14 00:00:00+00:00  NaN       0.0      INIT\n",
      "1       2005-10-02 06:18:00+00:00  NaN       0.0    UPDATE\n",
      "2       2005-10-20 12:36:00+00:00  NaN       0.0    UPDATE\n",
      "3       2005-11-07 18:54:00+00:00  NaN       0.0    UPDATE\n",
      "4       2005-11-26 01:12:00+00:00    +       1.0  LOOKBACK\n"
     ]
    }
   ],
   "source": [
    "\n",
    "ticker = \"SPX\"\n",
    "k = 100\n",
    "spot=100\n",
    "start_date = '2005-09-14'\n",
    "T= 0.2\n",
    "num_points = 4  \n",
    "\n",
    "# Creating a look-back put option timetable\n",
    "timetable = lookback_put_timetable(ticker, k,spot, start_date, T, num_points)\n",
    "print(timetable[\"events\"].to_pandas())"
   ]
  },
  {
   "cell_type": "code",
   "execution_count": null,
   "metadata": {},
   "outputs": [],
   "source": []
  }
 ],
 "metadata": {
  "kernelspec": {
   "display_name": "base",
   "language": "python",
   "name": "python3"
  },
  "language_info": {
   "codemirror_mode": {
    "name": "ipython",
    "version": 3
   },
   "file_extension": ".py",
   "mimetype": "text/x-python",
   "name": "python",
   "nbconvert_exporter": "python",
   "pygments_lexer": "ipython3",
   "version": "3.11.5"
  }
 },
 "nbformat": 4,
 "nbformat_minor": 2
}
