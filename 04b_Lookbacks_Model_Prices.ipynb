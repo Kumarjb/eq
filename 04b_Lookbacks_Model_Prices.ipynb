{
 "cells": [
  {
   "cell_type": "markdown",
   "metadata": {},
   "source": [
    "Lookback Options:"
   ]
  },
  {
   "cell_type": "markdown",
   "metadata": {},
   "source": [
    "Price a Lookback option using different models. Lookback options are valuable hedging tools for financial instruments that require the ability to capitalize on the best market prices over a specific period.  For a definition of the payoff, and the dataclass to construct a lookback put option timetable, see https://github.com/qatwalk/eq/blob/main/src/contracts/lookback.py"
   ]
  },
  {
   "cell_type": "code",
   "execution_count": 1,
   "metadata": {},
   "outputs": [],
   "source": [
    "from qablet.heston.mc import HestonMCModel\n",
    "from src.model.localvol import LVMCModel\n",
    "from src.model.rbergomi import rBergomiMCModel\n",
    "from src.contracts.lookback import lookback_put_timetable\n",
    "\n",
    "from data.spx_2005_09_15 import (\n",
    "    basic_info,\n",
    "    heston_data,\n",
    "    localvol_data,\n",
    "    rbergomi_data,\n",
    ")"
   ]
  },
  {
   "cell_type": "markdown",
   "metadata": {},
   "source": [
    "Contract:\n",
    "\n",
    "Create a Lookback put option contract fixing time to maturity,T=0.2 with num of monitoring points,m=4"
   ]
  },
  {
   "cell_type": "code",
   "execution_count": 2,
   "metadata": {},
   "outputs": [
    {
     "name": "stdout",
     "output_type": "stream",
     "text": [
      "  track                      time   op  quantity      unit\n",
      "0       2005-09-14 00:00:00+00:00  NaN       0.0      INIT\n",
      "1       2005-10-02 06:18:00+00:00  NaN       0.0    UPDATE\n",
      "2       2005-10-20 12:36:00+00:00  NaN       0.0    UPDATE\n",
      "3       2005-11-07 18:54:00+00:00  NaN       0.0    UPDATE\n",
      "4       2005-11-26 01:12:00+00:00    +       1.0  LOOKBACK\n"
     ]
    }
   ],
   "source": [
    "info = basic_info()\n",
    "prc_dt = info[\"prc_dt\"]\n",
    "\n",
    "ticker = \"SPX\"\n",
    "k = 100\n",
    "spot = 100\n",
    "start_date = prc_dt\n",
    "T = 0.2\n",
    "num_points = 4\n",
    "\n",
    "timetable = lookback_put_timetable(ticker, k, spot, start_date, T, num_points)\n",
    "print(timetable[\"events\"].to_pandas())"
   ]
  },
  {
   "cell_type": "markdown",
   "metadata": {},
   "source": [
    "Compare Models:\n",
    "\n",
    "Compare different models, starting with Local Volatility Model."
   ]
  },
  {
   "cell_type": "code",
   "execution_count": 3,
   "metadata": {},
   "outputs": [
    {
     "name": "stdout",
     "output_type": "stream",
     "text": [
      "Localvol price: 29.609658998233556\n"
     ]
    }
   ],
   "source": [
    "model = LVMCModel()\n",
    "price, _ = model.price(timetable, localvol_data())\n",
    "print(f\"Localvol price: {price}\")"
   ]
  },
  {
   "cell_type": "markdown",
   "metadata": {},
   "source": [
    "Heston Model:"
   ]
  },
  {
   "cell_type": "code",
   "execution_count": 4,
   "metadata": {},
   "outputs": [
    {
     "name": "stdout",
     "output_type": "stream",
     "text": [
      "Heston price: 29.129215279712312\n"
     ]
    }
   ],
   "source": [
    "model = HestonMCModel()\n",
    "price, _ = model.price(timetable, heston_data())\n",
    "print(f\"Heston price: {price}\")"
   ]
  },
  {
   "cell_type": "markdown",
   "metadata": {},
   "source": [
    "Bergomi Model:"
   ]
  },
  {
   "cell_type": "code",
   "execution_count": 5,
   "metadata": {},
   "outputs": [
    {
     "name": "stdout",
     "output_type": "stream",
     "text": [
      "rBergomi price: 138.59902716512872\n"
     ]
    }
   ],
   "source": [
    "model = rBergomiMCModel()\n",
    "dataset = rbergomi_data()\n",
    "dataset[\"MC\"][\"PATHS\"] = 20_000  # very slow with 100_000, 1/250\n",
    "dataset[\"MC\"][\"TIMESTEP\"] = 1 / 100\n",
    "price, _ = model.price(timetable, dataset)\n",
    "print(f\"rBergomi price: {price}\")"
   ]
  },
  {
   "cell_type": "markdown",
   "metadata": {},
   "source": [
    "Contract:\n",
    "\n",
    "Create a Lookback put option contract fixing time to maturity,T=0.5 with num of monitoring points,m=[5,10,20,50,100]"
   ]
  },
  {
   "cell_type": "markdown",
   "metadata": {},
   "source": [
    "Local Vol:"
   ]
  },
  {
   "cell_type": "code",
   "execution_count": 6,
   "metadata": {},
   "outputs": [
    {
     "name": "stdout",
     "output_type": "stream",
     "text": [
      "LocalVol price with 5 monitoring points: 53.33094447222685\n",
      "LocalVol price with 10 monitoring points: 61.95424415622582\n",
      "LocalVol price with 20 monitoring points: 67.99634273860505\n",
      "LocalVol price with 50 monitoring points: 73.29921139877153\n",
      "LocalVol price with 100 monitoring points: 74.875318805694\n"
     ]
    }
   ],
   "source": [
    "ticker = \"SPX\"\n",
    "k = 100\n",
    "spot = 100\n",
    "start_date = prc_dt\n",
    "T = 0.5\n",
    "\n",
    "# List of various monitoring points to analyze\n",
    "monitoring_points_list = [5, 10, 20, 50, 100]\n",
    "model = LVMCModel()\n",
    "lv_data = localvol_data()\n",
    "# Dictionary to store prices for different monitoring points\n",
    "prices = {}\n",
    "\n",
    "# Calculate prices for different numbers of monitoring points\n",
    "for num_points in monitoring_points_list:\n",
    "    timetable = lookback_put_timetable(\n",
    "        ticker, k, spot, start_date, T, num_points\n",
    "    )\n",
    "    price, _ = model.price(timetable, lv_data)\n",
    "    prices[num_points] = price\n",
    "    print(f\"LocalVol price with {num_points} monitoring points: {price}\")\n"
   ]
  },
  {
   "cell_type": "markdown",
   "metadata": {},
   "source": [
    "Heston Model:"
   ]
  },
  {
   "cell_type": "code",
   "execution_count": 7,
   "metadata": {},
   "outputs": [
    {
     "name": "stdout",
     "output_type": "stream",
     "text": [
      "LocalVol price with 5 monitoring points: 48.96641959951065\n",
      "LocalVol price with 10 monitoring points: 57.30368086193098\n",
      "LocalVol price with 20 monitoring points: 62.56082440331298\n",
      "LocalVol price with 50 monitoring points: 66.98207756637241\n",
      "LocalVol price with 100 monitoring points: 68.50669571048189\n"
     ]
    }
   ],
   "source": [
    "ticker = \"SPX\"\n",
    "k = 100\n",
    "spot = 100\n",
    "start_date = prc_dt\n",
    "T = 0.5\n",
    "\n",
    "# List of various monitoring points to analyze\n",
    "monitoring_points_list = [5, 10, 20, 50, 100]\n",
    "model = HestonMCModel()\n",
    "hs_data = heston_data()\n",
    "# Dictionary to store prices for different monitoring points\n",
    "prices = {}\n",
    "\n",
    "# Calculate prices for different numbers of monitoring points\n",
    "for num_points in monitoring_points_list:\n",
    "    timetable = lookback_put_timetable(\n",
    "        ticker, k, spot, start_date, T, num_points\n",
    "    )\n",
    "    price, _ = model.price(timetable, hs_data)\n",
    "    prices[num_points] = price\n",
    "    print(f\"LocalVol price with {num_points} monitoring points: {price}\")"
   ]
  },
  {
   "cell_type": "markdown",
   "metadata": {},
   "source": [
    "rbergomi Model:"
   ]
  },
  {
   "cell_type": "code",
   "execution_count": 8,
   "metadata": {},
   "outputs": [
    {
     "name": "stdout",
     "output_type": "stream",
     "text": [
      "LocalVol price with 5 monitoring points: 87.88506412378582\n",
      "LocalVol price with 10 monitoring points: 382.0908762392696\n",
      "LocalVol price with 20 monitoring points: 301.25758501343813\n",
      "LocalVol price with 50 monitoring points: 1827.7329985743118\n",
      "LocalVol price with 100 monitoring points: 2025.8491745323352\n"
     ]
    }
   ],
   "source": [
    "ticker = \"SPX\"\n",
    "k = 100\n",
    "spot = 100\n",
    "start_date = prc_dt\n",
    "T = 0.5\n",
    "\n",
    "# List of various monitoring points to analyze\n",
    "monitoring_points_list = [5, 10, 20, 50, 100]\n",
    "model = rBergomiMCModel()\n",
    "rb_data = rbergomi_data()\n",
    "rb_data[\"MC\"][\"PATHS\"] = 20_000  # very slow with 100_000, 1/250\n",
    "rb_data[\"MC\"][\"TIMESTEP\"] = 1 / 100\n",
    "# Dictionary to store prices for different monitoring points\n",
    "prices = {}\n",
    "\n",
    "# Calculate prices for different numbers of monitoring points\n",
    "for num_points in monitoring_points_list:\n",
    "    timetable = lookback_put_timetable(\n",
    "        ticker, k, spot, start_date, T, num_points\n",
    "    )\n",
    "    price, _ = model.price(timetable, rb_data)\n",
    "    prices[num_points] = price\n",
    "    print(f\"LocalVol price with {num_points} monitoring points: {price}\")"
   ]
  },
  {
   "cell_type": "code",
   "execution_count": null,
   "metadata": {},
   "outputs": [],
   "source": []
  }
 ],
 "metadata": {
  "kernelspec": {
   "display_name": "Python 3",
   "language": "python",
   "name": "python3"
  },
  "language_info": {
   "codemirror_mode": {
    "name": "ipython",
    "version": 3
   },
   "file_extension": ".py",
   "mimetype": "text/x-python",
   "name": "python",
   "nbconvert_exporter": "python",
   "pygments_lexer": "ipython3",
   "version": "3.11.5"
  }
 },
 "nbformat": 4,
 "nbformat_minor": 2
}
