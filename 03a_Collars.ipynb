{
 "cells": [
  {
   "cell_type": "markdown",
   "metadata": {},
   "source": [
    "# Collars\n",
    "Price collars using different models. If vanillas match, we expect collars to match as well. Consider this notebook as a prequel to the note book on [Forward Collars](03b_FwdCollars.ipynb)."
   ]
  },
  {
   "cell_type": "code",
   "execution_count": 1,
   "metadata": {},
   "outputs": [],
   "source": [
    "from datetime import datetime\n",
    "\n",
    "import numpy as np\n",
    "import pandas as pd\n",
    "import pyarrow as pa\n",
    "from matplotlib import pyplot as plt\n",
    "from qablet.heston.mc import HestonMCModel\n",
    "from qablet_contracts.timetable import TS_EVENT_SCHEMA\n",
    "\n",
    "from data.spx_2005_09_15 import (\n",
    "    basic_info,\n",
    "    heston_data,\n",
    "    localvol_data,\n",
    "    rbergomi_data,\n",
    ")\n",
    "from src.model.localvol import LVMCModel\n",
    "from src.model.rbergomi import rBergomiMCModel"
   ]
  },
  {
   "cell_type": "code",
   "execution_count": 2,
   "metadata": {},
   "outputs": [],
   "source": [
    "# We will compare everything with the SVI implied volatilities on 2005-09-15\n",
    "info = basic_info()\n",
    "prc_dt = info[\"prc_dt\"]\n",
    "ticker = info[\"ticker\"]\n",
    "spot = info[\"spot\"]\n",
    "\n",
    "# We will use a collar width of 1%\n",
    "width = 0.01 * spot"
   ]
  },
  {
   "cell_type": "markdown",
   "metadata": {},
   "source": [
    "### Collars\n",
    "Collars are not in the qablet_contracts package. We will write a method to create collars here, using the [qablet specifications](https://qablet.github.io/qablet-contracts/specifications/timetable/). A collar pays at maturity, based on a cap and floor from a collar width."
   ]
  },
  {
   "cell_type": "code",
   "execution_count": 3,
   "metadata": {},
   "outputs": [
    {
     "data": {
      "text/plain": [
       "[<matplotlib.lines.Line2D at 0x23e672f6f90>]"
      ]
     },
     "execution_count": 3,
     "metadata": {},
     "output_type": "execute_result"
    },
    {
     "data": {
      "image/png": "[encoded data removed]",
      "text/plain": [
       "<Figure size 640x480 with 1 Axes>"
      ]
     },
     "metadata": {},
     "output_type": "display_data"
    }
   ],
   "source": [
    "# Define collar phrase, which is spot - K, capped and floored.\n",
    "strike = spot\n",
    "\n",
    "\n",
    "def collar_pay_fn(inputs):\n",
    "    [s] = inputs\n",
    "\n",
    "    ret = np.maximum(-width, s - strike)\n",
    "    ret = np.minimum(width, ret)\n",
    "\n",
    "    return [ret]\n",
    "\n",
    "\n",
    "# let's plot the collar payoffs\n",
    "s_vec = np.linspace(strike - 0.05 * spot, strike + 0.05 * spot, 11)\n",
    "pay_vec = collar_pay_fn([s_vec])\n",
    "plt.plot(s_vec, pay_vec[0])"
   ]
  },
  {
   "cell_type": "code",
   "execution_count": 4,
   "metadata": {},
   "outputs": [
    {
     "name": "stdout",
     "output_type": "stream",
     "text": [
      "  track                      time op  quantity    unit\n",
      "0       2013-12-31 00:00:00+00:00  +       1.0  COLLAR\n"
     ]
    }
   ],
   "source": [
    "# Create a Collar timetable using the above collar fn\n",
    "def collar_timetable(ticker, maturity):\n",
    "    events = [\n",
    "        {\n",
    "            \"track\": \"\",\n",
    "            \"time\": maturity,\n",
    "            \"op\": \"+\",\n",
    "            \"quantity\": 1,\n",
    "            \"unit\": \"COLLAR\",\n",
    "        },\n",
    "    ]\n",
    "\n",
    "    events_table = pa.RecordBatch.from_pylist(events, schema=TS_EVENT_SCHEMA)\n",
    "    return {\n",
    "        \"events\": events_table,\n",
    "        \"expressions\": {\n",
    "            \"COLLAR\": {\n",
    "                \"type\": \"phrase\",\n",
    "                \"inp\": [ticker],\n",
    "                \"fn\": collar_pay_fn,\n",
    "            },\n",
    "        },\n",
    "    }\n",
    "\n",
    "\n",
    "# Try an example:\n",
    "timetable = collar_timetable(ticker, datetime(2013, 12, 31))\n",
    "print(timetable[\"events\"].to_pandas())"
   ]
  },
  {
   "cell_type": "markdown",
   "metadata": {},
   "source": [
    "Create a series of collars starting at different expiration dates."
   ]
  },
  {
   "cell_type": "code",
   "execution_count": 5,
   "metadata": {},
   "outputs": [
    {
     "data": {
      "text/html": [
       "<div>\n",
       "<style scoped>\n",
       "    .dataframe tbody tr th:only-of-type {\n",
       "        vertical-align: middle;\n",
       "    }\n",
       "\n",
       "    .dataframe tbody tr th {\n",
       "        vertical-align: top;\n",
       "    }\n",
       "\n",
       "    .dataframe thead th {\n",
       "        text-align: right;\n",
       "    }\n",
       "</style>\n",
       "<table border=\"1\" class=\"dataframe\">\n",
       "  <thead>\n",
       "    <tr style=\"text-align: right;\">\n",
       "      <th></th>\n",
       "      <th>exp date</th>\n",
       "    </tr>\n",
       "  </thead>\n",
       "  <tbody>\n",
       "    <tr>\n",
       "      <th>0</th>\n",
       "      <td>2005-11-14</td>\n",
       "    </tr>\n",
       "    <tr>\n",
       "      <th>1</th>\n",
       "      <td>2006-01-14</td>\n",
       "    </tr>\n",
       "    <tr>\n",
       "      <th>2</th>\n",
       "      <td>2006-03-14</td>\n",
       "    </tr>\n",
       "    <tr>\n",
       "      <th>3</th>\n",
       "      <td>2006-05-14</td>\n",
       "    </tr>\n",
       "    <tr>\n",
       "      <th>4</th>\n",
       "      <td>2006-07-14</td>\n",
       "    </tr>\n",
       "    <tr>\n",
       "      <th>5</th>\n",
       "      <td>2006-09-14</td>\n",
       "    </tr>\n",
       "  </tbody>\n",
       "</table>\n",
       "</div>"
      ],
      "text/plain": [
       "    exp date\n",
       "0 2005-11-14\n",
       "1 2006-01-14\n",
       "2 2006-03-14\n",
       "3 2006-05-14\n",
       "4 2006-07-14\n",
       "5 2006-09-14"
      ]
     },
     "execution_count": 5,
     "metadata": {},
     "output_type": "execute_result"
    }
   ],
   "source": [
    "exp_dates = []\n",
    "timetables = []\n",
    "for i in range(6):\n",
    "    exp_dt = prc_dt + pd.DateOffset(months=2 * i + 2)\n",
    "    exp_dates.append(exp_dt)\n",
    "    timetables.append(\n",
    "        collar_timetable(\n",
    "            ticker,\n",
    "            maturity=exp_dt,\n",
    "        )\n",
    "    )\n",
    "df = pd.DataFrame({\"exp date\": exp_dates})\n",
    "df"
   ]
  },
  {
   "cell_type": "markdown",
   "metadata": {},
   "source": [
    "### Compare Models\n",
    "Compare different models, starting with Local Volatility Model."
   ]
  },
  {
   "cell_type": "code",
   "execution_count": 6,
   "metadata": {},
   "outputs": [
    {
     "data": {
      "text/html": [
       "<div>\n",
       "<style scoped>\n",
       "    .dataframe tbody tr th:only-of-type {\n",
       "        vertical-align: middle;\n",
       "    }\n",
       "\n",
       "    .dataframe tbody tr th {\n",
       "        vertical-align: top;\n",
       "    }\n",
       "\n",
       "    .dataframe thead th {\n",
       "        text-align: right;\n",
       "    }\n",
       "</style>\n",
       "<table border=\"1\" class=\"dataframe\">\n",
       "  <thead>\n",
       "    <tr style=\"text-align: right;\">\n",
       "      <th></th>\n",
       "      <th>exp date</th>\n",
       "      <th>LocalVol</th>\n",
       "    </tr>\n",
       "  </thead>\n",
       "  <tbody>\n",
       "    <tr>\n",
       "      <th>0</th>\n",
       "      <td>2005-11-14</td>\n",
       "      <td>2.709827</td>\n",
       "    </tr>\n",
       "    <tr>\n",
       "      <th>1</th>\n",
       "      <td>2006-01-14</td>\n",
       "      <td>2.873626</td>\n",
       "    </tr>\n",
       "    <tr>\n",
       "      <th>2</th>\n",
       "      <td>2006-03-14</td>\n",
       "      <td>3.025723</td>\n",
       "    </tr>\n",
       "    <tr>\n",
       "      <th>3</th>\n",
       "      <td>2006-05-14</td>\n",
       "      <td>3.112570</td>\n",
       "    </tr>\n",
       "    <tr>\n",
       "      <th>4</th>\n",
       "      <td>2006-07-14</td>\n",
       "      <td>3.167875</td>\n",
       "    </tr>\n",
       "    <tr>\n",
       "      <th>5</th>\n",
       "      <td>2006-09-14</td>\n",
       "      <td>3.186637</td>\n",
       "    </tr>\n",
       "  </tbody>\n",
       "</table>\n",
       "</div>"
      ],
      "text/plain": [
       "    exp date  LocalVol\n",
       "0 2005-11-14  2.709827\n",
       "1 2006-01-14  2.873626\n",
       "2 2006-03-14  3.025723\n",
       "3 2006-05-14  3.112570\n",
       "4 2006-07-14  3.167875\n",
       "5 2006-09-14  3.186637"
      ]
     },
     "execution_count": 6,
     "metadata": {},
     "output_type": "execute_result"
    }
   ],
   "source": [
    "model = LVMCModel()\n",
    "\n",
    "prices = []\n",
    "for timetable in timetables:\n",
    "    price, _ = model.price(timetable, localvol_data())\n",
    "    prices.append(price)\n",
    "\n",
    "df[\"LocalVol\"] = prices\n",
    "df"
   ]
  },
  {
   "cell_type": "markdown",
   "metadata": {},
   "source": [
    "Heston Model"
   ]
  },
  {
   "cell_type": "code",
   "execution_count": 7,
   "metadata": {},
   "outputs": [
    {
     "data": {
      "text/html": [
       "<div>\n",
       "<style scoped>\n",
       "    .dataframe tbody tr th:only-of-type {\n",
       "        vertical-align: middle;\n",
       "    }\n",
       "\n",
       "    .dataframe tbody tr th {\n",
       "        vertical-align: top;\n",
       "    }\n",
       "\n",
       "    .dataframe thead th {\n",
       "        text-align: right;\n",
       "    }\n",
       "</style>\n",
       "<table border=\"1\" class=\"dataframe\">\n",
       "  <thead>\n",
       "    <tr style=\"text-align: right;\">\n",
       "      <th></th>\n",
       "      <th>exp date</th>\n",
       "      <th>LocalVol</th>\n",
       "      <th>Heston</th>\n",
       "    </tr>\n",
       "  </thead>\n",
       "  <tbody>\n",
       "    <tr>\n",
       "      <th>0</th>\n",
       "      <td>2005-11-14</td>\n",
       "      <td>2.709827</td>\n",
       "      <td>2.299740</td>\n",
       "    </tr>\n",
       "    <tr>\n",
       "      <th>1</th>\n",
       "      <td>2006-01-14</td>\n",
       "      <td>2.873626</td>\n",
       "      <td>2.839489</td>\n",
       "    </tr>\n",
       "    <tr>\n",
       "      <th>2</th>\n",
       "      <td>2006-03-14</td>\n",
       "      <td>3.025723</td>\n",
       "      <td>3.086085</td>\n",
       "    </tr>\n",
       "    <tr>\n",
       "      <th>3</th>\n",
       "      <td>2006-05-14</td>\n",
       "      <td>3.112570</td>\n",
       "      <td>3.206615</td>\n",
       "    </tr>\n",
       "    <tr>\n",
       "      <th>4</th>\n",
       "      <td>2006-07-14</td>\n",
       "      <td>3.167875</td>\n",
       "      <td>3.247730</td>\n",
       "    </tr>\n",
       "    <tr>\n",
       "      <th>5</th>\n",
       "      <td>2006-09-14</td>\n",
       "      <td>3.186637</td>\n",
       "      <td>3.278776</td>\n",
       "    </tr>\n",
       "  </tbody>\n",
       "</table>\n",
       "</div>"
      ],
      "text/plain": [
       "    exp date  LocalVol    Heston\n",
       "0 2005-11-14  2.709827  2.299740\n",
       "1 2006-01-14  2.873626  2.839489\n",
       "2 2006-03-14  3.025723  3.086085\n",
       "3 2006-05-14  3.112570  3.206615\n",
       "4 2006-07-14  3.167875  3.247730\n",
       "5 2006-09-14  3.186637  3.278776"
      ]
     },
     "execution_count": 7,
     "metadata": {},
     "output_type": "execute_result"
    }
   ],
   "source": [
    "model = HestonMCModel()\n",
    "\n",
    "prices = []\n",
    "for timetable in timetables:\n",
    "    price, _ = model.price(timetable, heston_data())\n",
    "    prices.append(price)\n",
    "df[\"Heston\"] = prices\n",
    "df"
   ]
  },
  {
   "cell_type": "markdown",
   "metadata": {},
   "source": [
    "Bergomi Model"
   ]
  },
  {
   "cell_type": "code",
   "execution_count": 8,
   "metadata": {},
   "outputs": [
    {
     "data": {
      "text/html": [
       "<div>\n",
       "<style scoped>\n",
       "    .dataframe tbody tr th:only-of-type {\n",
       "        vertical-align: middle;\n",
       "    }\n",
       "\n",
       "    .dataframe tbody tr th {\n",
       "        vertical-align: top;\n",
       "    }\n",
       "\n",
       "    .dataframe thead th {\n",
       "        text-align: right;\n",
       "    }\n",
       "</style>\n",
       "<table border=\"1\" class=\"dataframe\">\n",
       "  <thead>\n",
       "    <tr style=\"text-align: right;\">\n",
       "      <th></th>\n",
       "      <th>exp date</th>\n",
       "      <th>LocalVol</th>\n",
       "      <th>Heston</th>\n",
       "      <th>rBergomi</th>\n",
       "    </tr>\n",
       "  </thead>\n",
       "  <tbody>\n",
       "    <tr>\n",
       "      <th>0</th>\n",
       "      <td>2005-11-14</td>\n",
       "      <td>2.709827</td>\n",
       "      <td>2.299740</td>\n",
       "      <td>2.605350</td>\n",
       "    </tr>\n",
       "    <tr>\n",
       "      <th>1</th>\n",
       "      <td>2006-01-14</td>\n",
       "      <td>2.873626</td>\n",
       "      <td>2.839489</td>\n",
       "      <td>3.018518</td>\n",
       "    </tr>\n",
       "    <tr>\n",
       "      <th>2</th>\n",
       "      <td>2006-03-14</td>\n",
       "      <td>3.025723</td>\n",
       "      <td>3.086085</td>\n",
       "      <td>3.180562</td>\n",
       "    </tr>\n",
       "    <tr>\n",
       "      <th>3</th>\n",
       "      <td>2006-05-14</td>\n",
       "      <td>3.112570</td>\n",
       "      <td>3.206615</td>\n",
       "      <td>3.252619</td>\n",
       "    </tr>\n",
       "    <tr>\n",
       "      <th>4</th>\n",
       "      <td>2006-07-14</td>\n",
       "      <td>3.167875</td>\n",
       "      <td>3.247730</td>\n",
       "      <td>3.339039</td>\n",
       "    </tr>\n",
       "    <tr>\n",
       "      <th>5</th>\n",
       "      <td>2006-09-14</td>\n",
       "      <td>3.186637</td>\n",
       "      <td>3.278776</td>\n",
       "      <td>3.331857</td>\n",
       "    </tr>\n",
       "  </tbody>\n",
       "</table>\n",
       "</div>"
      ],
      "text/plain": [
       "    exp date  LocalVol    Heston  rBergomi\n",
       "0 2005-11-14  2.709827  2.299740  2.605350\n",
       "1 2006-01-14  2.873626  2.839489  3.018518\n",
       "2 2006-03-14  3.025723  3.086085  3.180562\n",
       "3 2006-05-14  3.112570  3.206615  3.252619\n",
       "4 2006-07-14  3.167875  3.247730  3.339039\n",
       "5 2006-09-14  3.186637  3.278776  3.331857"
      ]
     },
     "execution_count": 8,
     "metadata": {},
     "output_type": "execute_result"
    }
   ],
   "source": [
    "model = rBergomiMCModel()\n",
    "dataset = rbergomi_data()\n",
    "dataset[\"MC\"][\"PATHS\"] = 20_000  # very slow with 100_000, 1/250\n",
    "dataset[\"MC\"][\"TIMESTEP\"] = 1 / 100\n",
    "\n",
    "prices = []\n",
    "for timetable in timetables:\n",
    "    price, _ = model.price(timetable, dataset)\n",
    "    prices.append(price)\n",
    "df[\"rBergomi\"] = prices\n",
    "df"
   ]
  },
  {
   "cell_type": "markdown",
   "metadata": {},
   "source": [
    "## Plot"
   ]
  },
  {
   "cell_type": "code",
   "execution_count": 9,
   "metadata": {},
   "outputs": [
    {
     "data": {
      "text/plain": [
       "<Axes: title={'center': 'Collar Prices'}, xlabel='exp date'>"
      ]
     },
     "execution_count": 9,
     "metadata": {},
     "output_type": "execute_result"
    },
    {
     "data": {
      "image/png": "[encoded data removed]",
      "text/plain": [
       "<Figure size 640x480 with 1 Axes>"
      ]
     },
     "metadata": {},
     "output_type": "display_data"
    }
   ],
   "source": [
    "df.columns\n",
    "df.plot(\n",
    "    x=\"exp date\",\n",
    "    y=[\"LocalVol\", \"Heston\", \"rBergomi\"],\n",
    "    marker=\"o\",\n",
    "    title=\"Collar Prices\",\n",
    ")"
   ]
  }
 ],
 "metadata": {
  "kernelspec": {
   "display_name": ".venv",
   "language": "python",
   "name": "python3"
  },
  "language_info": {
   "codemirror_mode": {
    "name": "ipython",
    "version": 3
   },
   "file_extension": ".py",
   "mimetype": "text/x-python",
   "name": "python",
   "nbconvert_exporter": "python",
   "pygments_lexer": "ipython3",
   "version": "3.11.9"
  }
 },
 "nbformat": 4,
 "nbformat_minor": 2
}
