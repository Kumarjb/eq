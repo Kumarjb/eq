{
 "cells": [
  {
   "cell_type": "markdown",
   "metadata": {},
   "source": [
    "# Forward Collars\n",
    "Price forward collars using different models. Forward collars are insightful because\n",
    "\n",
    "- they are sensitive to the forward skew of the implied volatility surface, and therefore highlight the forward vol dynamics of each model.\n",
    "- a cliquet can be thought of as a series of forward collars."
   ]
  },
  {
   "cell_type": "code",
   "execution_count": 24,
   "metadata": {},
   "outputs": [],
   "source": [
    "from datetime import datetime\n",
    "\n",
    "import numpy as np\n",
    "import pandas as pd\n",
    "import pyarrow as pa\n",
    "from matplotlib import pyplot as plt\n",
    "from qablet.black_scholes.mc import LVMCModel\n",
    "from qablet.heston.mc import HestonMCModel\n",
    "from qablet_contracts.timetable import TS_EVENT_SCHEMA\n",
    "\n",
    "from data.spx_2005_09_15 import (\n",
    "    heston_data,\n",
    "    localvol_data,\n",
    "    rbergomi_data,\n",
    "    basic_info,\n",
    ")\n",
    "from src.model.rbergomi import rBergomiMCModel"
   ]
  },
  {
   "cell_type": "code",
   "execution_count": 25,
   "metadata": {},
   "outputs": [],
   "source": [
    "# We will compare everything with the SVI implied volatilities on 2005-09-15\n",
    "info = basic_info()\n",
    "prc_dt = info[\"prc_dt\"]\n",
    "ticker = info[\"ticker\"]\n",
    "spot = info[\"spot\"]\n",
    "\n",
    "# We will use a collar width of 1%\n",
    "width = 0.01 * spot"
   ]
  },
  {
   "cell_type": "markdown",
   "metadata": {},
   "source": [
    "### Forward Collars\n",
    "Forward collars are not in the qablet_contracts package. We will write a method to create forward collars here, using the [qablet specifications](https://qablet.github.io/qablet-contracts/specifications/timetable/). Forward collar has two events\n",
    "\n",
    "- set the strike, at a future strike time, using a given strike_rate\n",
    "- pay at maturity, based on above strike, and a collar width."
   ]
  },
  {
   "cell_type": "code",
   "execution_count": 26,
   "metadata": {},
   "outputs": [
    {
     "data": {
      "text/plain": [
       "[<matplotlib.lines.Line2D at 0x1dc69723050>]"
      ]
     },
     "execution_count": 26,
     "metadata": {},
     "output_type": "execute_result"
    },
    {
     "data": {
      "image/png": "[encoded data removed]",
      "text/plain": [
       "<Figure size 640x480 with 1 Axes>"
      ]
     },
     "metadata": {},
     "output_type": "display_data"
    }
   ],
   "source": [
    "# Define collar phrase, which is spot - K, capped and floored.\n",
    "# Unlike the previous notebook, it takes two inputs as the strikes are not fixed.\n",
    "def collar_pay_fn(inputs):\n",
    "    [s, k] = inputs\n",
    "\n",
    "    ret = np.maximum(-width, s - k)\n",
    "    ret = np.minimum(width, ret)\n",
    "\n",
    "    return [ret]\n",
    "\n",
    "\n",
    "# Plot the payoff using current spot as the strike\n",
    "strike = spot\n",
    "s_vec = np.linspace(strike - 0.05 * spot, strike + 0.05 * spot, 11)\n",
    "pay_vec = collar_pay_fn([s_vec, strike])\n",
    "plt.plot(s_vec, pay_vec[0])"
   ]
  },
  {
   "cell_type": "code",
   "execution_count": 27,
   "metadata": {},
   "outputs": [
    {
     "name": "stdout",
     "output_type": "stream",
     "text": [
      "  track                      time   op  quantity    unit\n",
      "0   NaN 2013-10-31 00:00:00+00:00  NaN       0.0     FIX\n",
      "1       2013-12-31 00:00:00+00:00    +       1.0  COLLAR\n"
     ]
    }
   ],
   "source": [
    "# Create a Collar\n",
    "def fwd_collar_timetable(ticker, strike_rate, width, strike_time, maturity):\n",
    "    events = [\n",
    "        {\n",
    "            \"track\": None,\n",
    "            \"time\": strike_time,\n",
    "            \"op\": None,\n",
    "            \"quantity\": 0,\n",
    "            \"unit\": \"FIX\",  # set strike\n",
    "        },\n",
    "        {\n",
    "            \"track\": \"\",\n",
    "            \"time\": maturity,\n",
    "            \"op\": \"+\",\n",
    "            \"quantity\": 1,\n",
    "            \"unit\": \"COLLAR\",  # pay collar\n",
    "        },\n",
    "    ]\n",
    "\n",
    "    # Define the strike phrase, which is the spot times strike rate.\n",
    "    def strike_fn(inputs):\n",
    "        [s] = inputs\n",
    "        return [s * strike_rate]\n",
    "\n",
    "    events_table = pa.RecordBatch.from_pylist(events, schema=TS_EVENT_SCHEMA)\n",
    "    return {\n",
    "        \"events\": events_table,\n",
    "        \"expressions\": {\n",
    "            \"COLLAR\": {\n",
    "                \"type\": \"phrase\",\n",
    "                \"inp\": [ticker, \"K\"],  # must match no of inputs in fn\n",
    "                \"fn\": collar_pay_fn,\n",
    "            },\n",
    "            \"FIX\": {\n",
    "                \"type\": \"snapper\",\n",
    "                \"inp\": [ticker],\n",
    "                \"fn\": strike_fn,\n",
    "                \"out\": [\"K\"],\n",
    "            },\n",
    "        },\n",
    "    }\n",
    "\n",
    "\n",
    "# Try an example:\n",
    "timetable = fwd_collar_timetable(\n",
    "    ticker, 1.0, width, datetime(2013, 10, 31), datetime(2013, 12, 31)\n",
    ")\n",
    "print(timetable[\"events\"].to_pandas())"
   ]
  },
  {
   "cell_type": "markdown",
   "metadata": {},
   "source": [
    "Create a series of forward collars starting at different expiration dates, setting strikes two months prior to expiration."
   ]
  },
  {
   "cell_type": "code",
   "execution_count": 29,
   "metadata": {},
   "outputs": [
    {
     "data": {
      "text/html": [
       "<div>\n",
       "<style scoped>\n",
       "    .dataframe tbody tr th:only-of-type {\n",
       "        vertical-align: middle;\n",
       "    }\n",
       "\n",
       "    .dataframe tbody tr th {\n",
       "        vertical-align: top;\n",
       "    }\n",
       "\n",
       "    .dataframe thead th {\n",
       "        text-align: right;\n",
       "    }\n",
       "</style>\n",
       "<table border=\"1\" class=\"dataframe\">\n",
       "  <thead>\n",
       "    <tr style=\"text-align: right;\">\n",
       "      <th></th>\n",
       "      <th>fix date</th>\n",
       "      <th>exp date</th>\n",
       "    </tr>\n",
       "  </thead>\n",
       "  <tbody>\n",
       "    <tr>\n",
       "      <th>0</th>\n",
       "      <td>2005-09-14</td>\n",
       "      <td>2005-11-14</td>\n",
       "    </tr>\n",
       "    <tr>\n",
       "      <th>1</th>\n",
       "      <td>2005-11-14</td>\n",
       "      <td>2006-01-14</td>\n",
       "    </tr>\n",
       "    <tr>\n",
       "      <th>2</th>\n",
       "      <td>2006-01-14</td>\n",
       "      <td>2006-03-14</td>\n",
       "    </tr>\n",
       "    <tr>\n",
       "      <th>3</th>\n",
       "      <td>2006-03-14</td>\n",
       "      <td>2006-05-14</td>\n",
       "    </tr>\n",
       "    <tr>\n",
       "      <th>4</th>\n",
       "      <td>2006-05-14</td>\n",
       "      <td>2006-07-14</td>\n",
       "    </tr>\n",
       "    <tr>\n",
       "      <th>5</th>\n",
       "      <td>2006-07-14</td>\n",
       "      <td>2006-09-14</td>\n",
       "    </tr>\n",
       "  </tbody>\n",
       "</table>\n",
       "</div>"
      ],
      "text/plain": [
       "    fix date   exp date\n",
       "0 2005-09-14 2005-11-14\n",
       "1 2005-11-14 2006-01-14\n",
       "2 2006-01-14 2006-03-14\n",
       "3 2006-03-14 2006-05-14\n",
       "4 2006-05-14 2006-07-14\n",
       "5 2006-07-14 2006-09-14"
      ]
     },
     "execution_count": 29,
     "metadata": {},
     "output_type": "execute_result"
    }
   ],
   "source": [
    "fix_dates = [prc_dt]\n",
    "exp_dates = []\n",
    "timetables = []\n",
    "\n",
    "for i in range(6):\n",
    "    exp_dt = prc_dt + pd.DateOffset(months=2 * i + 2)\n",
    "    exp_dates.append(exp_dt)\n",
    "    fix_dates.append(exp_dt)  # applies to next period\n",
    "    timetables.append(\n",
    "        fwd_collar_timetable(\n",
    "            ticker,\n",
    "            strike_rate=1.0,\n",
    "            width=width,\n",
    "            strike_time=fix_dates[i],\n",
    "            maturity=exp_dates[i],\n",
    "        )\n",
    "    )\n",
    "df = pd.DataFrame({\"fix date\": fix_dates[:-1], \"exp date\": exp_dates})\n",
    "df"
   ]
  },
  {
   "cell_type": "markdown",
   "metadata": {},
   "source": [
    "### Compare Models\n",
    "Compare different models, starting with Local Volatility Model."
   ]
  },
  {
   "cell_type": "code",
   "execution_count": 30,
   "metadata": {},
   "outputs": [
    {
     "data": {
      "text/html": [
       "<div>\n",
       "<style scoped>\n",
       "    .dataframe tbody tr th:only-of-type {\n",
       "        vertical-align: middle;\n",
       "    }\n",
       "\n",
       "    .dataframe tbody tr th {\n",
       "        vertical-align: top;\n",
       "    }\n",
       "\n",
       "    .dataframe thead th {\n",
       "        text-align: right;\n",
       "    }\n",
       "</style>\n",
       "<table border=\"1\" class=\"dataframe\">\n",
       "  <thead>\n",
       "    <tr style=\"text-align: right;\">\n",
       "      <th></th>\n",
       "      <th>fix date</th>\n",
       "      <th>exp date</th>\n",
       "      <th>LocalVol</th>\n",
       "    </tr>\n",
       "  </thead>\n",
       "  <tbody>\n",
       "    <tr>\n",
       "      <th>0</th>\n",
       "      <td>2005-09-14</td>\n",
       "      <td>2005-11-14</td>\n",
       "      <td>2.603245</td>\n",
       "    </tr>\n",
       "    <tr>\n",
       "      <th>1</th>\n",
       "      <td>2005-11-14</td>\n",
       "      <td>2006-01-14</td>\n",
       "      <td>1.577387</td>\n",
       "    </tr>\n",
       "    <tr>\n",
       "      <th>2</th>\n",
       "      <td>2006-01-14</td>\n",
       "      <td>2006-03-14</td>\n",
       "      <td>1.337892</td>\n",
       "    </tr>\n",
       "    <tr>\n",
       "      <th>3</th>\n",
       "      <td>2006-03-14</td>\n",
       "      <td>2006-05-14</td>\n",
       "      <td>1.221289</td>\n",
       "    </tr>\n",
       "    <tr>\n",
       "      <th>4</th>\n",
       "      <td>2006-05-14</td>\n",
       "      <td>2006-07-14</td>\n",
       "      <td>1.114165</td>\n",
       "    </tr>\n",
       "    <tr>\n",
       "      <th>5</th>\n",
       "      <td>2006-07-14</td>\n",
       "      <td>2006-09-14</td>\n",
       "      <td>0.898284</td>\n",
       "    </tr>\n",
       "  </tbody>\n",
       "</table>\n",
       "</div>"
      ],
      "text/plain": [
       "    fix date   exp date  LocalVol\n",
       "0 2005-09-14 2005-11-14  2.603245\n",
       "1 2005-11-14 2006-01-14  1.577387\n",
       "2 2006-01-14 2006-03-14  1.337892\n",
       "3 2006-03-14 2006-05-14  1.221289\n",
       "4 2006-05-14 2006-07-14  1.114165\n",
       "5 2006-07-14 2006-09-14  0.898284"
      ]
     },
     "execution_count": 30,
     "metadata": {},
     "output_type": "execute_result"
    }
   ],
   "source": [
    "model = LVMCModel()\n",
    "\n",
    "prices = []\n",
    "for timetable in timetables:\n",
    "    price, _ = model.price(timetable, localvol_data())\n",
    "    prices.append(price)\n",
    "\n",
    "df[\"LocalVol\"] = prices\n",
    "df"
   ]
  },
  {
   "cell_type": "markdown",
   "metadata": {},
   "source": [
    "Heston Model"
   ]
  },
  {
   "cell_type": "code",
   "execution_count": 31,
   "metadata": {},
   "outputs": [
    {
     "data": {
      "text/html": [
       "<div>\n",
       "<style scoped>\n",
       "    .dataframe tbody tr th:only-of-type {\n",
       "        vertical-align: middle;\n",
       "    }\n",
       "\n",
       "    .dataframe tbody tr th {\n",
       "        vertical-align: top;\n",
       "    }\n",
       "\n",
       "    .dataframe thead th {\n",
       "        text-align: right;\n",
       "    }\n",
       "</style>\n",
       "<table border=\"1\" class=\"dataframe\">\n",
       "  <thead>\n",
       "    <tr style=\"text-align: right;\">\n",
       "      <th></th>\n",
       "      <th>fix date</th>\n",
       "      <th>exp date</th>\n",
       "      <th>LocalVol</th>\n",
       "      <th>Heston</th>\n",
       "    </tr>\n",
       "  </thead>\n",
       "  <tbody>\n",
       "    <tr>\n",
       "      <th>0</th>\n",
       "      <td>2005-09-14</td>\n",
       "      <td>2005-11-14</td>\n",
       "      <td>2.603245</td>\n",
       "      <td>2.154498</td>\n",
       "    </tr>\n",
       "    <tr>\n",
       "      <th>1</th>\n",
       "      <td>2005-11-14</td>\n",
       "      <td>2006-01-14</td>\n",
       "      <td>1.577387</td>\n",
       "      <td>2.382918</td>\n",
       "    </tr>\n",
       "    <tr>\n",
       "      <th>2</th>\n",
       "      <td>2006-01-14</td>\n",
       "      <td>2006-03-14</td>\n",
       "      <td>1.337892</td>\n",
       "      <td>2.301607</td>\n",
       "    </tr>\n",
       "    <tr>\n",
       "      <th>3</th>\n",
       "      <td>2006-03-14</td>\n",
       "      <td>2006-05-14</td>\n",
       "      <td>1.221289</td>\n",
       "      <td>2.334131</td>\n",
       "    </tr>\n",
       "    <tr>\n",
       "      <th>4</th>\n",
       "      <td>2006-05-14</td>\n",
       "      <td>2006-07-14</td>\n",
       "      <td>1.114165</td>\n",
       "      <td>2.193293</td>\n",
       "    </tr>\n",
       "    <tr>\n",
       "      <th>5</th>\n",
       "      <td>2006-07-14</td>\n",
       "      <td>2006-09-14</td>\n",
       "      <td>0.898284</td>\n",
       "      <td>2.162660</td>\n",
       "    </tr>\n",
       "  </tbody>\n",
       "</table>\n",
       "</div>"
      ],
      "text/plain": [
       "    fix date   exp date  LocalVol    Heston\n",
       "0 2005-09-14 2005-11-14  2.603245  2.154498\n",
       "1 2005-11-14 2006-01-14  1.577387  2.382918\n",
       "2 2006-01-14 2006-03-14  1.337892  2.301607\n",
       "3 2006-03-14 2006-05-14  1.221289  2.334131\n",
       "4 2006-05-14 2006-07-14  1.114165  2.193293\n",
       "5 2006-07-14 2006-09-14  0.898284  2.162660"
      ]
     },
     "execution_count": 31,
     "metadata": {},
     "output_type": "execute_result"
    }
   ],
   "source": [
    "model = HestonMCModel()\n",
    "\n",
    "prices = []\n",
    "for timetable in timetables:\n",
    "    price, _ = model.price(timetable, heston_data())\n",
    "    prices.append(price)\n",
    "df[\"Heston\"] = prices\n",
    "df"
   ]
  },
  {
   "cell_type": "markdown",
   "metadata": {},
   "source": [
    "Bergomi Model"
   ]
  },
  {
   "cell_type": "code",
   "execution_count": 32,
   "metadata": {},
   "outputs": [
    {
     "data": {
      "text/html": [
       "<div>\n",
       "<style scoped>\n",
       "    .dataframe tbody tr th:only-of-type {\n",
       "        vertical-align: middle;\n",
       "    }\n",
       "\n",
       "    .dataframe tbody tr th {\n",
       "        vertical-align: top;\n",
       "    }\n",
       "\n",
       "    .dataframe thead th {\n",
       "        text-align: right;\n",
       "    }\n",
       "</style>\n",
       "<table border=\"1\" class=\"dataframe\">\n",
       "  <thead>\n",
       "    <tr style=\"text-align: right;\">\n",
       "      <th></th>\n",
       "      <th>fix date</th>\n",
       "      <th>exp date</th>\n",
       "      <th>LocalVol</th>\n",
       "      <th>Heston</th>\n",
       "      <th>rBergomi</th>\n",
       "    </tr>\n",
       "  </thead>\n",
       "  <tbody>\n",
       "    <tr>\n",
       "      <th>0</th>\n",
       "      <td>2005-09-14</td>\n",
       "      <td>2005-11-14</td>\n",
       "      <td>2.603245</td>\n",
       "      <td>2.154498</td>\n",
       "      <td>2.605350</td>\n",
       "    </tr>\n",
       "    <tr>\n",
       "      <th>1</th>\n",
       "      <td>2005-11-14</td>\n",
       "      <td>2006-01-14</td>\n",
       "      <td>1.577387</td>\n",
       "      <td>2.382918</td>\n",
       "      <td>2.759082</td>\n",
       "    </tr>\n",
       "    <tr>\n",
       "      <th>2</th>\n",
       "      <td>2006-01-14</td>\n",
       "      <td>2006-03-14</td>\n",
       "      <td>1.337892</td>\n",
       "      <td>2.301607</td>\n",
       "      <td>2.569883</td>\n",
       "    </tr>\n",
       "    <tr>\n",
       "      <th>3</th>\n",
       "      <td>2006-03-14</td>\n",
       "      <td>2006-05-14</td>\n",
       "      <td>1.221289</td>\n",
       "      <td>2.334131</td>\n",
       "      <td>2.712798</td>\n",
       "    </tr>\n",
       "    <tr>\n",
       "      <th>4</th>\n",
       "      <td>2006-05-14</td>\n",
       "      <td>2006-07-14</td>\n",
       "      <td>1.114165</td>\n",
       "      <td>2.193293</td>\n",
       "      <td>2.721521</td>\n",
       "    </tr>\n",
       "    <tr>\n",
       "      <th>5</th>\n",
       "      <td>2006-07-14</td>\n",
       "      <td>2006-09-14</td>\n",
       "      <td>0.898284</td>\n",
       "      <td>2.162660</td>\n",
       "      <td>2.619573</td>\n",
       "    </tr>\n",
       "  </tbody>\n",
       "</table>\n",
       "</div>"
      ],
      "text/plain": [
       "    fix date   exp date  LocalVol    Heston  rBergomi\n",
       "0 2005-09-14 2005-11-14  2.603245  2.154498  2.605350\n",
       "1 2005-11-14 2006-01-14  1.577387  2.382918  2.759082\n",
       "2 2006-01-14 2006-03-14  1.337892  2.301607  2.569883\n",
       "3 2006-03-14 2006-05-14  1.221289  2.334131  2.712798\n",
       "4 2006-05-14 2006-07-14  1.114165  2.193293  2.721521\n",
       "5 2006-07-14 2006-09-14  0.898284  2.162660  2.619573"
      ]
     },
     "execution_count": 32,
     "metadata": {},
     "output_type": "execute_result"
    }
   ],
   "source": [
    "model = rBergomiMCModel()\n",
    "dataset = rbergomi_data()\n",
    "dataset[\"MC\"][\"PATHS\"] = 20_000  # very slow with 100_000, 1/250\n",
    "dataset[\"MC\"][\"TIMESTEP\"] = 1 / 100\n",
    "\n",
    "prices = []\n",
    "for timetable in timetables:\n",
    "    price, _ = model.price(timetable, dataset)\n",
    "    prices.append(price)\n",
    "df[\"rBergomi\"] = prices\n",
    "df"
   ]
  },
  {
   "cell_type": "markdown",
   "metadata": {},
   "source": [
    "## Plot"
   ]
  },
  {
   "cell_type": "code",
   "execution_count": 33,
   "metadata": {},
   "outputs": [
    {
     "data": {
      "text/plain": [
       "<Axes: title={'center': 'Forward Collar Prices'}, xlabel='exp date'>"
      ]
     },
     "execution_count": 33,
     "metadata": {},
     "output_type": "execute_result"
    },
    {
     "data": {
      "image/png": "[encoded data removed]",
      "text/plain": [
       "<Figure size 640x480 with 1 Axes>"
      ]
     },
     "metadata": {},
     "output_type": "display_data"
    }
   ],
   "source": [
    "df.columns\n",
    "df.plot(\n",
    "    x=\"exp date\",\n",
    "    y=[\"LocalVol\", \"Heston\", \"rBergomi\"],\n",
    "    marker=\"o\",\n",
    "    title=\"Forward Collar Prices\",\n",
    ")"
   ]
  },
  {
   "cell_type": "markdown",
   "metadata": {},
   "source": [
    "For the first expiration, the strike sets at the pricing date, therefore they are exactly the same contract as the vanilla collars in the previous notebook. They match, except Heston.\n",
    "\n",
    "For later expirations, the local volatility model significantly underprices the collars relative to the others."
   ]
  }
 ],
 "metadata": {
  "kernelspec": {
   "display_name": ".venv",
   "language": "python",
   "name": "python3"
  },
  "language_info": {
   "codemirror_mode": {
    "name": "ipython",
    "version": 3
   },
   "file_extension": ".py",
   "mimetype": "text/x-python",
   "name": "python",
   "nbconvert_exporter": "python",
   "pygments_lexer": "ipython3",
   "version": "3.11.9"
  }
 },
 "nbformat": 4,
 "nbformat_minor": 2
}
