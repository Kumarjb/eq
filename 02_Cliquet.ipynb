{
 "cells": [
  {
   "cell_type": "markdown",
   "metadata": {},
   "source": [
    "# Cliquet\n",
    "Price a Cliquet using different models. Cliquets are frequently used as hedges for annuities with caps and floors.\n",
    "For a definition of the payoff, and the dataclass to construct a cliquet timetable, see [qablet_contracts.eq.cliquet.Accumulator](https://qablet.github.io/qablet-contracts/examples/equity_cliquet)"
   ]
  },
  {
   "cell_type": "code",
   "execution_count": null,
   "metadata": {},
   "outputs": [],
   "source": [
    "from datetime import datetime\n",
    "\n",
    "import pandas as pd\n",
    "from qablet.black_scholes.mc import LVMCModel\n",
    "from qablet.heston.mc import HestonMCModel\n",
    "from qablet_contracts.eq.cliquet import Accumulator\n",
    "\n",
    "from data.samples import heston_data, localvol_data, rbergomi_data\n",
    "from src.model.rbergomi import rBergomiMCModel"
   ]
  },
  {
   "cell_type": "markdown",
   "metadata": {},
   "source": [
    "### Contract\n",
    "Create a Cliquet Contract fixing bi-monthly."
   ]
  },
  {
   "cell_type": "code",
   "execution_count": null,
   "metadata": {},
   "outputs": [
    {
     "name": "stdout",
     "output_type": "stream",
     "text": [
      "   track                      time   op  quantity     unit\n",
      "0    NaN 2013-08-30 00:00:00+00:00  NaN       0.0     INIT\n",
      "1    NaN 2013-10-31 00:00:00+00:00  NaN       0.0  CALCFIX\n",
      "2    NaN 2013-12-31 00:00:00+00:00  NaN       0.0  CALCFIX\n",
      "3    NaN 2014-02-28 00:00:00+00:00  NaN       0.0  CALCFIX\n",
      "4    NaN 2014-04-30 00:00:00+00:00  NaN       0.0  CALCFIX\n",
      "5    NaN 2014-06-30 00:00:00+00:00  NaN       0.0  CALCFIX\n",
      "6    NaN 2014-08-29 00:00:00+00:00  NaN       0.0  CALCFIX\n",
      "7    NaN 2014-10-31 00:00:00+00:00  NaN       0.0  CALCFIX\n",
      "8    NaN 2014-12-31 00:00:00+00:00  NaN       0.0  CALCFIX\n",
      "9        2014-12-31 00:00:00+00:00    >       0.0      USD\n",
      "10       2014-12-31 00:00:00+00:00    +       1.0      ACC\n"
     ]
    }
   ],
   "source": [
    "fix_dates = pd.bdate_range(\n",
    "    datetime(2013, 8, 14), datetime(2014, 12, 31), freq=\"2BME\"\n",
    ")\n",
    "global_floor = 0.0\n",
    "local_floor = -0.03\n",
    "local_cap = 0.05\n",
    "timetable = Accumulator(\n",
    "    \"USD\",\n",
    "    \"SPX\",\n",
    "    fix_dates,\n",
    "    global_floor,\n",
    "    local_floor,\n",
    "    local_cap,\n",
    "    state={\"S_PREV\": 1.0},\n",
    ").timetable()\n",
    "\n",
    "print(timetable[\"events\"].to_pandas())"
   ]
  },
  {
   "cell_type": "markdown",
   "metadata": {},
   "source": [
    "### Compare Models\n",
    "Compare different models, starting with Local Volatility Model."
   ]
  },
  {
   "cell_type": "code",
   "execution_count": null,
   "metadata": {},
   "outputs": [
    {
     "name": "stdout",
     "output_type": "stream",
     "text": [
      "Localvol price: 0.09835745819114465\n"
     ]
    }
   ],
   "source": [
    "model = LVMCModel()\n",
    "price, _ = model.price(timetable, localvol_data())\n",
    "print(f\"Localvol price: {price}\")"
   ]
  },
  {
   "cell_type": "markdown",
   "metadata": {},
   "source": [
    "Heston Model"
   ]
  },
  {
   "cell_type": "code",
   "execution_count": null,
   "metadata": {},
   "outputs": [
    {
     "name": "stdout",
     "output_type": "stream",
     "text": [
      "Heston price: 0.07816623272486052\n"
     ]
    }
   ],
   "source": [
    "model = HestonMCModel()\n",
    "price, _ = model.price(timetable, heston_data())\n",
    "print(f\"Heston price: {price}\")"
   ]
  },
  {
   "cell_type": "markdown",
   "metadata": {},
   "source": [
    "Bergomi Model"
   ]
  },
  {
   "cell_type": "code",
   "execution_count": null,
   "metadata": {},
   "outputs": [
    {
     "name": "stdout",
     "output_type": "stream",
     "text": [
      "rBergomi price: 0.08386114469064239\n"
     ]
    }
   ],
   "source": [
    "model = rBergomiMCModel()\n",
    "dataset = rbergomi_data()\n",
    "dataset[\"MC\"][\"PATHS\"] = 20_000  # very slow with 100_000, 1/250\n",
    "dataset[\"MC\"][\"TIMESTEP\"] = 1 / 100\n",
    "price, _ = model.price(timetable, dataset)\n",
    "print(f\"rBergomi price: {price}\")"
   ]
  }
 ],
 "metadata": {
  "kernelspec": {
   "display_name": ".venv",
   "language": "python",
   "name": "python3"
  },
  "language_info": {
   "codemirror_mode": {
    "name": "ipython",
    "version": 3
   },
   "file_extension": ".py",
   "mimetype": "text/x-python",
   "name": "python",
   "nbconvert_exporter": "python",
   "pygments_lexer": "ipython3"
  }
 },
 "nbformat": 4,
 "nbformat_minor": 2
}
